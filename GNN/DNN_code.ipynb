{
  "cells": [
    {
      "cell_type": "code",
      "execution_count": 1,
      "id": "0da28e21-e186-41a3-a4d8-f2159e41e162",
      "metadata": {
        "id": "0da28e21-e186-41a3-a4d8-f2159e41e162"
      },
      "outputs": [],
      "source": [
        "import numpy as np\n",
        "import matplotlib.pyplot as plt"
      ]
    },
    {
      "cell_type": "code",
      "execution_count": 8,
      "id": "91de0b02-dec1-4de7-b8b3-8a013c22038a",
      "metadata": {
        "id": "91de0b02-dec1-4de7-b8b3-8a013c22038a"
      },
      "outputs": [],
      "source": [
        "### Creating data set\n",
        "\n",
        "# 1\n",
        "one = [0,0,1,0,0,0,\n",
        "       0,0,1,0,0,0,\n",
        "       0,0,1,0,0,0,\n",
        "       0,0,1,0,0,0,\n",
        "       0,0,1,0,0,0]\n",
        "#2\n",
        "two = [0,1,1,1,1,0,\n",
        "       0,0,0,0,1,0,\n",
        "       0,0,0,1,0,0,\n",
        "       0,0,1,0,0,0,\n",
        "       0,1,1,1,1,0]\n",
        "#3\n",
        "three = [0,1,1,1,1,0,\n",
        "        0,0,0,0,1,0,\n",
        "        0,0,1,1,1,0,\n",
        "        0,0,0,0,1,0,\n",
        "        0,1,1,1,1,0]\n",
        "\n",
        "#creating labels\n",
        "y = [[1,0,0],\n",
        "     [0,1,0],\n",
        "     [0,0,1]]"
      ]
    },
    {
      "cell_type": "code",
      "execution_count": 9,
      "id": "f69a392d-549f-4bbe-8823-80e62ef2cc63",
      "metadata": {
        "colab": {
          "base_uri": "https://localhost:8080/",
          "height": 265
        },
        "id": "f69a392d-549f-4bbe-8823-80e62ef2cc63",
        "outputId": "bb402cf1-ab49-4bf0-9da5-56c7f97d7abf"
      },
      "outputs": [
        {
          "output_type": "display_data",
          "data": {
            "text/plain": [
              "<Figure size 432x288 with 1 Axes>"
            ],
            "image/png": "[encoded data removed]"
          },
          "metadata": {
            "needs_background": "light"
          }
        }
      ],
      "source": [
        "#ploting number 1\n",
        "plt.imshow(np.array(one).reshape(5,6))\n",
        "plt.show()"
      ]
    },
    {
      "cell_type": "code",
      "execution_count": 10,
      "id": "d1b985aa-ed10-4b75-b583-40e19f95784e",
      "metadata": {
        "colab": {
          "base_uri": "https://localhost:8080/",
          "height": 265
        },
        "id": "d1b985aa-ed10-4b75-b583-40e19f95784e",
        "outputId": "2e1219e1-1a1b-4564-8b9b-4bf48fceee41"
      },
      "outputs": [
        {
          "output_type": "display_data",
          "data": {
            "text/plain": [
              "<Figure size 432x288 with 1 Axes>"
            ],
            "image/png": "[encoded data removed]"
          },
          "metadata": {
            "needs_background": "light"
          }
        }
      ],
      "source": [
        "#ploting number 2\n",
        "plt.imshow(np.array(two).reshape(5,6))\n",
        "plt.show()"
      ]
    },
    {
      "cell_type": "code",
      "execution_count": 11,
      "id": "9d7b70fb-90a7-4589-be5d-cd11cb8a3c1b",
      "metadata": {
        "colab": {
          "base_uri": "https://localhost:8080/",
          "height": 265
        },
        "id": "9d7b70fb-90a7-4589-be5d-cd11cb8a3c1b",
        "outputId": "6bb637b7-0bd8-4d41-bf5a-5d6a7ff88387"
      },
      "outputs": [
        {
          "output_type": "display_data",
          "data": {
            "text/plain": [
              "<Figure size 432x288 with 1 Axes>"
            ],
            "image/png": "[encoded data removed]"
          },
          "metadata": {
            "needs_background": "light"
          }
        }
      ],
      "source": [
        "#ploting number 3\n",
        "plt.imshow(np.array(three).reshape(5,6))\n",
        "plt.show()"
      ]
    },
    {
      "cell_type": "code",
      "execution_count": 12,
      "id": "9cead68d-d783-4203-8eae-cdf667e257d0",
      "metadata": {
        "id": "9cead68d-d783-4203-8eae-cdf667e257d0"
      },
      "outputs": [],
      "source": [
        "x = [np.array(one).reshape(1,30), np.array(two).reshape(1,30), np.array(three).reshape(1,30)]\n",
        "y = np.array(y)"
      ]
    },
    {
      "cell_type": "markdown",
      "id": "193e7739-1598-40a9-908f-1583cdc1e2d5",
      "metadata": {
        "id": "193e7739-1598-40a9-908f-1583cdc1e2d5"
      },
      "source": [
        "# DNN we are going to implement and train"
      ]
    },
    {
      "cell_type": "markdown",
      "id": "44fd6208-9433-4d41-9192-d55745d11ac4",
      "metadata": {
        "id": "44fd6208-9433-4d41-9192-d55745d11ac4"
      },
      "source": [
        "![FNN](FNN.png)"
      ]
    },
    {
      "cell_type": "code",
      "execution_count": 13,
      "id": "a490c14f-b4db-479a-a4d0-d347b8829bab",
      "metadata": {
        "id": "a490c14f-b4db-479a-a4d0-d347b8829bab"
      },
      "outputs": [],
      "source": [
        "def sigmoid(x):\n",
        "    return (1/(1+np.exp(-x)))"
      ]
    },
    {
      "cell_type": "code",
      "execution_count": 14,
      "id": "6f9f0aa4-7257-4dd8-9fd3-0c1f08cc5b8b",
      "metadata": {
        "id": "6f9f0aa4-7257-4dd8-9fd3-0c1f08cc5b8b"
      },
      "outputs": [],
      "source": [
        "def loss(out,y):\n",
        "    s = (np.square(out-y))\n",
        "    s = np.sum(s)/len(y)\n",
        "    return s"
      ]
    },
    {
      "cell_type": "code",
      "execution_count": null,
      "id": "6b1c95a6-c5d1-403c-8bfc-eeb4ec1b569c",
      "metadata": {
        "id": "6b1c95a6-c5d1-403c-8bfc-eeb4ec1b569c"
      },
      "outputs": [],
      "source": [
        "def feed_forward(x,w1, w2):\n",
        "    #hidden layer\n",
        "    z1 = x.dot(w1) ### input of layer 1\n",
        "    a1 = sigmoid(z1) ### output of layer 1\n",
        "    \n",
        "    #output layer\n",
        "    z2 = a1.dot(w2) ## input of layer 2\n",
        "    a2 = sigmoid(z2) ## output of layer 2\n",
        "    return a2"
      ]
    },
    {
      "cell_type": "code",
      "execution_count": null,
      "id": "0753f4dd-8bf9-44df-90ac-f2363ce55cfd",
      "metadata": {
        "id": "0753f4dd-8bf9-44df-90ac-f2363ce55cfd"
      },
      "outputs": [],
      "source": [
        "def generate_weights(x,y):\n",
        "    weights = []\n",
        "    for i in range(x*y):\n",
        "        weights.append(np.random.randn())\n",
        "    return np.array(weights).reshape(x,y)"
      ]
    },
    {
      "cell_type": "code",
      "execution_count": null,
      "id": "90b469c5-bd7d-43d4-9070-d513a9dc7092",
      "metadata": {
        "id": "90b469c5-bd7d-43d4-9070-d513a9dc7092"
      },
      "outputs": [],
      "source": [
        "def back_propagation(x,y,w1,w2,learning_rate):\n",
        "    #hidden layer\n",
        "    z1 = x.dot(w1) ### input of layer 1\n",
        "    a1 = sigmoid(z1) ### output of layer 1\n",
        "    \n",
        "    #output layer\n",
        "    z2 = a1.dot(w2) ## input of layer 2\n",
        "    a2 = sigmoid(z2) ## output of layer 2\n",
        "    \n",
        "    d2  = (a2-y)\n",
        "    d1 = np.multiply(w2.dot((d2.transpose())).transpose(),(np.multiply(a1,1-a1)))\n",
        "    \n",
        "    #Gradient for w1 and w2\n",
        "    w1_adj = x.transpose().dot(d1)\n",
        "    w2_adj = a1.transpose().dot(d2)\n",
        "    \n",
        "    #Updating parameters\n",
        "    w1 = w1 - (learning_rate*(w1_adj))\n",
        "    w2 = w2 - (learning_rate*(w2_adj))\n",
        "    \n",
        "    return (w1,w2)\n",
        "    \n",
        "    \n",
        "    "
      ]
    },
    {
      "cell_type": "code",
      "execution_count": null,
      "id": "448cc2bd-5f95-48ac-a664-5234ddd57c01",
      "metadata": {
        "id": "448cc2bd-5f95-48ac-a664-5234ddd57c01"
      },
      "outputs": [],
      "source": [
        "def training(x,y, w1,w2,learning_rate=0.01, epochs = 10):\n",
        "    accuracies = []\n",
        "    losses = []\n",
        "    for j in range(epochs):\n",
        "        l = []\n",
        "        for i in range(len(x)):\n",
        "            out = feed_forward(x[i],w1,w2)\n",
        "            l.append(loss(out, y[i]))\n",
        "            w1,w2 = back_propagation(x[i],y[i], w1,w2,learning_rate)\n",
        "        acc = (1-(sum(l)/len(x)))*100\n",
        "        print(\"epochs:\",j+1, \"=========> accuracy:\", acc)\n",
        "        accuracies.append(acc)\n",
        "        losses.append(sum(l)/len(x))\n",
        "    return accuracies,losses, w1, w2"
      ]
    },
    {
      "cell_type": "code",
      "execution_count": null,
      "id": "730fc1ac-2978-408a-a65a-fda1aac20a98",
      "metadata": {
        "id": "730fc1ac-2978-408a-a65a-fda1aac20a98"
      },
      "outputs": [],
      "source": [
        "def predict(x, w1, w2):\n",
        "    output = feed_forward(x,w1,w2)\n",
        "    maxim = 0\n",
        "    k = 0 \n",
        "    for i in range(len(output[0])):\n",
        "        if (maxim<output[0][i]):\n",
        "            maxim = output[0][i]\n",
        "            k = i\n",
        "    if k == 0:\n",
        "        print(\"Image is of number 1\")\n",
        "    elif k == 1:\n",
        "        print(\"Image is of number 2\")\n",
        "    else:\n",
        "        print(\"Image is of number 3\")\n",
        "    plt.imshow(x.reshape(5,6))\n",
        "    plt.show()"
      ]
    },
    {
      "cell_type": "code",
      "execution_count": null,
      "id": "6256f40d-b235-4f2b-b0d8-aa9968bb73f2",
      "metadata": {
        "id": "6256f40d-b235-4f2b-b0d8-aa9968bb73f2",
        "outputId": "655fc0e4-f00b-4f1e-c783-97b16f09c3e3"
      },
      "outputs": [
        {
          "name": "stdout",
          "output_type": "stream",
          "text": [
            "[[-0.10357146 -1.12055055 -0.36652537 -1.46111569  0.1004862 ]\n",
            " [-1.39491039  0.15999027  0.3538702   0.03890477  0.79829423]\n",
            " [-0.31377623  1.73590844  1.39364321  0.35306855 -0.70836075]\n",
            " [-0.04547291 -2.4590494  -0.6174317  -0.23763385 -1.21654814]\n",
            " [ 1.39793363 -0.20483459  0.77939161 -0.14700953 -0.47697976]\n",
            " [-0.97572002 -0.45556118 -0.51763661 -0.60866157  0.6404417 ]\n",
            " [-0.66117707  0.67449978 -1.32410069 -1.2263536  -0.60038201]\n",
            " [ 0.2077609   0.1370625  -1.18482849  0.98225312 -0.29658573]\n",
            " [-0.91673408  0.17209553 -0.75870316 -0.31263181 -1.2461578 ]\n",
            " [-0.26452259 -1.31284536  0.63236825 -0.11234911  0.63406461]\n",
            " [-0.20370955  0.31603287  1.74082231  0.50134533  1.19649374]\n",
            " [-0.89126465  0.72207394 -0.06981462  0.14301947 -0.85050884]\n",
            " [ 0.73315705 -1.75170201 -1.82539943 -1.22824812  1.99086385]\n",
            " [ 0.05397512 -0.0303213  -0.7511788   1.93739842  0.01465169]\n",
            " [-1.30674216 -0.38676583  1.99869374  0.5126857   0.39124714]\n",
            " [-1.28740253 -0.15951756 -1.15568812  1.65862484  1.59942862]\n",
            " [-0.08071046  0.20794677 -0.55527793  0.2991229   0.33849889]\n",
            " [ 0.81377838  0.27082408 -0.41363565 -0.31486817  0.43151393]\n",
            " [-1.19469903  0.25136959 -0.21341273  0.856324    0.22766525]\n",
            " [-1.16117647  0.53676594 -0.16765204  0.86242811 -0.84638024]\n",
            " [-1.37329127 -0.27401723  2.02390541 -0.73650275 -0.12551026]\n",
            " [ 2.53650682  1.87755678 -1.42075041 -0.75451451  0.55870945]\n",
            " [ 0.99287867  0.11380628 -0.54140588 -1.35712905 -2.30185406]\n",
            " [ 0.19403727 -1.14671866 -1.83092091 -2.34321995 -0.77869279]\n",
            " [-0.06851102 -0.72591752 -1.50608598  0.44929105 -0.37782076]\n",
            " [ 0.48815131 -1.47884851 -0.93480498 -0.44392723 -0.34358238]\n",
            " [ 0.20505344  0.57873943 -1.27879807 -1.17363407  0.1356613 ]\n",
            " [-0.13868672  1.14215339 -0.40746707 -1.52500977  0.76834604]\n",
            " [-0.30121185  0.418507    0.56228501 -1.17246754 -0.18056445]\n",
            " [-0.97283191  0.31523717  0.47892275 -1.17133354  0.599599  ]] \n",
            "\n",
            " [[-0.25252233  1.26684628 -0.74413776]\n",
            " [-0.33974811  1.46530942 -0.61453744]\n",
            " [ 0.02547598  1.25716262 -0.40820045]\n",
            " [-0.08287942 -0.69496803  0.99089662]\n",
            " [ 0.64639     0.54554006 -1.35205224]]\n"
          ]
        }
      ],
      "source": [
        "w1 = generate_weights(30, 5)\n",
        "w2 = generate_weights(5, 3)\n",
        "print(w1,\"\\n\\n\",w2)"
      ]
    },
    {
      "cell_type": "code",
      "execution_count": null,
      "id": "9bcd7954-83b6-446a-bdd2-70592dd1d90e",
      "metadata": {
        "id": "9bcd7954-83b6-446a-bdd2-70592dd1d90e",
        "outputId": "0dbb78f3-0d8d-401c-c872-afc89972b76c"
      },
      "outputs": [
        {
          "name": "stdout",
          "output_type": "stream",
          "text": [
            "epochs: 1 =========> accuracy: 62.36832103902539\n",
            "epochs: 2 =========> accuracy: 71.71795653089671\n",
            "epochs: 3 =========> accuracy: 74.80337659095476\n",
            "epochs: 4 =========> accuracy: 76.78732231580496\n",
            "epochs: 5 =========> accuracy: 78.30747812287481\n",
            "epochs: 6 =========> accuracy: 79.71539389998902\n",
            "epochs: 7 =========> accuracy: 81.2177952723843\n",
            "epochs: 8 =========> accuracy: 82.95074295051485\n",
            "epochs: 9 =========> accuracy: 84.95886356445837\n",
            "epochs: 10 =========> accuracy: 87.13231163938667\n",
            "epochs: 11 =========> accuracy: 89.23238594041499\n",
            "epochs: 12 =========> accuracy: 91.0718553645316\n",
            "epochs: 13 =========> accuracy: 92.6028648957099\n",
            "epochs: 14 =========> accuracy: 93.84844194369325\n",
            "epochs: 15 =========> accuracy: 94.85244221285984\n",
            "epochs: 16 =========> accuracy: 95.66054416309444\n",
            "epochs: 17 =========> accuracy: 96.31308670433056\n",
            "epochs: 18 =========> accuracy: 96.84309095985819\n",
            "epochs: 19 =========> accuracy: 97.27660405131982\n",
            "epochs: 20 =========> accuracy: 97.6338436613311\n",
            "epochs: 21 =========> accuracy: 97.93043257204579\n",
            "epochs: 22 =========> accuracy: 98.17846393419009\n",
            "epochs: 23 =========> accuracy: 98.38734388528015\n",
            "epochs: 24 =========> accuracy: 98.56443378138947\n",
            "epochs: 25 =========> accuracy: 98.71553295311975\n",
            "epochs: 26 =========> accuracy: 98.84524072933726\n",
            "epochs: 27 =========> accuracy: 98.95722877076267\n",
            "epochs: 28 =========> accuracy: 99.05444704370649\n",
            "epochs: 29 =========> accuracy: 99.13928055640666\n",
            "epochs: 30 =========> accuracy: 99.21366935909275\n",
            "epochs: 31 =========> accuracy: 99.27920096363562\n",
            "epochs: 32 =========> accuracy: 99.33718193043903\n",
            "epochs: 33 =========> accuracy: 99.38869362915689\n",
            "epochs: 34 =========> accuracy: 99.43463591148442\n",
            "epochs: 35 =========> accuracy: 99.47576150309605\n",
            "epochs: 36 =========> accuracy: 99.51270323345902\n",
            "epochs: 37 =========> accuracy: 99.5459957104554\n",
            "epochs: 38 =========> accuracy: 99.57609266431307\n",
            "epochs: 39 =========> accuracy: 99.60338089828844\n",
            "epochs: 40 =========> accuracy: 99.6281915671523\n",
            "epochs: 41 =========> accuracy: 99.65080934071844\n",
            "epochs: 42 =========> accuracy: 99.67147988511573\n",
            "epochs: 43 =========> accuracy: 99.69041599941264\n",
            "epochs: 44 =========> accuracy: 99.70780267227094\n",
            "epochs: 45 =========> accuracy: 99.723801267119\n",
            "epochs: 46 =========> accuracy: 99.7385530008507\n",
            "epochs: 47 =========> accuracy: 99.75218184724903\n",
            "epochs: 48 =========> accuracy: 99.76479696992931\n",
            "epochs: 49 =========> accuracy: 99.77649476888212\n",
            "epochs: 50 =========> accuracy: 99.78736060837045\n",
            "epochs: 51 =========> accuracy: 99.79747028101255\n",
            "epochs: 52 =========> accuracy: 99.80689125260915\n",
            "epochs: 53 =========> accuracy: 99.81568372407\n",
            "epochs: 54 =========> accuracy: 99.82390154021962\n",
            "epochs: 55 =========> accuracy: 99.83159296996749\n",
            "epochs: 56 =========> accuracy: 99.83880137804965\n",
            "epochs: 57 =========> accuracy: 99.84556580507837\n",
            "epochs: 58 =========> accuracy: 99.85192146980823\n",
            "epochs: 59 =========> accuracy: 99.85790020521861\n",
            "epochs: 60 =========> accuracy: 99.86353083811537\n",
            "epochs: 61 =========> accuracy: 99.86883952039668\n",
            "epochs: 62 =========> accuracy: 99.87385001883821\n",
            "epochs: 63 =========> accuracy: 99.87858396918686\n",
            "epochs: 64 =========> accuracy: 99.88306109946429\n",
            "epochs: 65 =========> accuracy: 99.88729942664264\n",
            "epochs: 66 =========> accuracy: 99.89131543023603\n",
            "epochs: 67 =========> accuracy: 99.89512420583306\n",
            "epochs: 68 =========> accuracy: 99.89873960115922\n",
            "epochs: 69 =========> accuracy: 99.90217433689091\n",
            "epochs: 70 =========> accuracy: 99.90544011413078\n",
            "epochs: 71 =========> accuracy: 99.90854771019193\n",
            "epochs: 72 =========> accuracy: 99.91150706411301\n",
            "epochs: 73 =========> accuracy: 99.91432735313673\n",
            "epochs: 74 =========> accuracy: 99.91701706122062\n",
            "epochs: 75 =========> accuracy: 99.9195840405094\n",
            "epochs: 76 =========> accuracy: 99.92203556657915\n",
            "epochs: 77 =========> accuracy: 99.92437838816025\n",
            "epochs: 78 =========> accuracy: 99.92661877195744\n",
            "epochs: 79 =========> accuracy: 99.9287625431092\n",
            "epochs: 80 =========> accuracy: 99.93081512176207\n",
            "epochs: 81 =========> accuracy: 99.93278155617836\n",
            "epochs: 82 =========> accuracy: 99.93466655274614\n",
            "epochs: 83 =========> accuracy: 99.93647450321644\n",
            "epochs: 84 =========> accuracy: 99.9382095094556\n",
            "epochs: 85 =========> accuracy: 99.93987540596703\n",
            "epochs: 86 =========> accuracy: 99.94147578040827\n",
            "epochs: 87 =========> accuracy: 99.94301399230389\n",
            "epochs: 88 =========> accuracy: 99.94449319013215\n",
            "epochs: 89 =========> accuracy: 99.94591632694473\n",
            "epochs: 90 =========> accuracy: 99.94728617466053\n",
            "epochs: 91 =========> accuracy: 99.94860533716067\n",
            "epochs: 92 =========> accuracy: 99.94987626229724\n",
            "epochs: 93 =========> accuracy: 99.95110125291745\n",
            "epochs: 94 =========> accuracy: 99.95228247699389\n",
            "epochs: 95 =========> accuracy: 99.95342197694241\n",
            "epochs: 96 =========> accuracy: 99.95452167820108\n",
            "epochs: 97 =========> accuracy: 99.95558339713591\n",
            "epochs: 98 =========> accuracy: 99.95660884833319\n",
            "epochs: 99 =========> accuracy: 99.95759965133159\n",
            "epochs: 100 =========> accuracy: 99.95855733684287\n"
          ]
        }
      ],
      "source": [
        "accuraccies, losses, trained_w1, trained_w2 = training(x,y,w1,w2, 0.5,100)"
      ]
    },
    {
      "cell_type": "code",
      "execution_count": null,
      "id": "58e6f0ea-a5e2-4a5d-b143-91afdc96ae3f",
      "metadata": {
        "id": "58e6f0ea-a5e2-4a5d-b143-91afdc96ae3f",
        "outputId": "e0b70611-97e0-49c4-aee6-dd7756b3efc9"
      },
      "outputs": [
        {
          "data": {
            "image/png": "[encoded data removed]",
            "text/plain": [
              "<Figure size 432x288 with 1 Axes>"
            ]
          },
          "metadata": {
            "needs_background": "light"
          },
          "output_type": "display_data"
        }
      ],
      "source": [
        "plt.plot(accuraccies)\n",
        "plt.xlabel(\"epochs\")\n",
        "plt.ylabel(\"accuracy\")\n",
        "plt.show()"
      ]
    },
    {
      "cell_type": "code",
      "execution_count": null,
      "id": "0aad53fa-0f81-4b33-a068-0b899887f6fa",
      "metadata": {
        "id": "0aad53fa-0f81-4b33-a068-0b899887f6fa",
        "outputId": "5314bc57-44cb-4994-9b38-ffff8dadb4d0"
      },
      "outputs": [
        {
          "data": {
            "image/png": "[encoded data removed]",
            "text/plain": [
              "<Figure size 432x288 with 1 Axes>"
            ]
          },
          "metadata": {
            "needs_background": "light"
          },
          "output_type": "display_data"
        }
      ],
      "source": [
        "plt.plot(losses)\n",
        "plt.xlabel(\"epochs\")\n",
        "plt.ylabel(\"loss\")\n",
        "plt.show()"
      ]
    },
    {
      "cell_type": "code",
      "execution_count": null,
      "id": "49954b00-738c-470c-b95b-28b30f97cebc",
      "metadata": {
        "id": "49954b00-738c-470c-b95b-28b30f97cebc",
        "outputId": "69b77eec-c995-4b97-f2e0-9a1c956a2818"
      },
      "outputs": [
        {
          "name": "stdout",
          "output_type": "stream",
          "text": [
            "Image is of number 3\n"
          ]
        },
        {
          "data": {
            "image/png": "[encoded data removed]",
            "text/plain": [
              "<Figure size 432x288 with 1 Axes>"
            ]
          },
          "metadata": {
            "needs_background": "light"
          },
          "output_type": "display_data"
        }
      ],
      "source": [
        "predict(x[2],trained_w1,trained_w2)"
      ]
    }
  ],
  "metadata": {
    "kernelspec": {
      "display_name": "Python 3 (ipykernel)",
      "language": "python",
      "name": "python3"
    },
    "language_info": {
      "codemirror_mode": {
        "name": "ipython",
        "version": 3
      },
      "file_extension": ".py",
      "mimetype": "text/x-python",
      "name": "python",
      "nbconvert_exporter": "python",
      "pygments_lexer": "ipython3",
      "version": "3.8.2"
    },
    "colab": {
      "provenance": []
    }
  },
  "nbformat": 4,
  "nbformat_minor": 5
}